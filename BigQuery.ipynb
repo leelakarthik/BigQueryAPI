{
 "cells": [
  {
   "cell_type": "code",
   "execution_count": 6,
   "metadata": {},
   "outputs": [],
   "source": [
    "import os\n",
    "os.environ['GOOGLE_APPLICATION_CREDENTIALS'] = 'key.json'"
   ]
  },
  {
   "cell_type": "code",
   "execution_count": 10,
   "metadata": {},
   "outputs": [],
   "source": [
    "# %pip install db-dtypes google-cloud-bigquery"
   ]
  },
  {
   "cell_type": "code",
   "execution_count": 147,
   "metadata": {},
   "outputs": [
    {
     "data": {
      "text/plain": [
       "'anon7196bec97a3f6c6fe9bafb93d642dc9287e75f8329055df372ebecc67eec7b9c'"
      ]
     },
     "execution_count": 147,
     "metadata": {},
     "output_type": "execute_result"
    }
   ],
   "source": [
    "from google.cloud import bigquery\n",
    "\n",
    "client = bigquery.Client()\n",
    "\n",
    "# Perform a query.\n",
    "QUERY = (\n",
    "    'SELECT * FROM `bigquery-public-data.usa_names.ua_1910_2013` '\n",
    "    'WHERE state = \"TX\" '\n",
    "    'LIMIT 100')\n",
    "QUERY1 = (\n",
    "    'SELECT * FROM `bigquery-public-data.usa_names.usa_1910_2013` '\n",
    "    'WHERE state = \"TX\" '\n",
    "    'LIMIT 100')\n",
    "query_job = client.query(QUERY)  # API request\n",
    "query_job1 = client.query(QUERY1)  # API request\n",
    "# rows = query_job.result() # Waits for query to finish\n",
    "# for i in dir(query_job):\n",
    "#     print(i)\n",
    "table_reference = query_job1.destination\n",
    "\n",
    "# Fetch table metadata to get the actual table name\n",
    "table = client.get_table(table_reference)\n",
    "\n",
    "# Get the actual table name\n",
    "table_name = table.table_id\n",
    "table_name"
   ]
  },
  {
   "cell_type": "code",
   "execution_count": 135,
   "metadata": {},
   "outputs": [
    {
     "name": "stdout",
     "output_type": "stream",
     "text": [
      "SELECT * FROM `bigquery-public-data.usa_names.ua_1910_2013` WHERE state = \"TX\" LIMIT 100\n",
      "test-bigquery-410304._6aa11130c003b357c3f134d7582a8ad13886f06d.anon7196bec97a3f6c6fe9bafb93d642dc9287e75f8329055df372ebecc67eec7b9c\n",
      "<bound method PollingFuture.exception of QueryJob<project=test-bigquery-410304, location=US, id=c2e1944a-9fdd-4173-8434-31b6d9c98b04>>\n",
      "<bound method PollingFuture.exception of QueryJob<project=test-bigquery-410304, location=US, id=7bd44343-5e4b-4e89-9cb0-3bf47d314d7d>>\n"
     ]
    }
   ],
   "source": [
    "print(query_job.query)\n",
    "print(query_job1.destination)\n",
    "print(query_job.exception)\n",
    "print(query_job1.exception)"
   ]
  },
  {
   "cell_type": "code",
   "execution_count": 163,
   "metadata": {},
   "outputs": [
    {
     "name": "stdout",
     "output_type": "stream",
     "text": [
      " * Serving Flask app '__main__'\n",
      " * Debug mode: off\n"
     ]
    },
    {
     "name": "stderr",
     "output_type": "stream",
     "text": [
      "WARNING: This is a development server. Do not use it in a production deployment. Use a production WSGI server instead.\n",
      " * Running on http://127.0.0.1:5000\n",
      "Press CTRL+C to quit\n",
      "127.0.0.1 - - [08/Jan/2024 11:28:35] \"GET /SELECT%20*%20FRoM%20bigquery-public-data.austin_311.311_service_requests%20LIMIT%202 HTTP/1.1\" 500 -\n",
      "127.0.0.1 - - [08/Jan/2024 11:28:39] \"GET /SELECT%20*%20FRoM%20bigquery-public-data.austin_311.311_service_requests%20LIMIT%202 HTTP/1.1\" 200 -\n"
     ]
    }
   ],
   "source": [
    "from flask import Flask, request, render_template, flash, redirect, url_for, request,jsonify\n",
    "from urllib.parse import unquote, quote\n",
    "from google.cloud import bigquery\n",
    "import os, pandas as pd\n",
    "os.environ['GOOGLE_APPLICATION_CREDENTIALS'] = 'key.json'\n",
    "\n",
    "app = Flask(__name__)\n",
    "\n",
    "class BigQueryClientSingleton:\n",
    "    _instance = None\n",
    "\n",
    "    def __new__(cls):\n",
    "        if cls._instance is None:\n",
    "            cls._instance = super(BigQueryClientSingleton, cls).__new__(cls)\n",
    "            cls._instance.client = bigquery.Client()\n",
    "        return cls._instance\n",
    "\n",
    "    @classmethod\n",
    "    def get_instance(cls):\n",
    "        if cls._instance is None:\n",
    "            cls._instance = cls()\n",
    "        return cls._instance\n",
    "\n",
    "    @classmethod\n",
    "    def close_instance(cls):\n",
    "        if cls._instance is not None and hasattr(cls._instance, 'client'):\n",
    "            cls._instance.client.close()\n",
    "            cls._instance = None\n",
    "\n",
    "@app.route(\"/\")\n",
    "def home():\n",
    "    BigQueryClientSingleton.get_instance()\n",
    "    return f\"Hello, welcome to bigquery api app on flask! \"\n",
    "\n",
    "@app.route(\"/list_datasets/<param>\")\n",
    "def list_datasets(param):\n",
    "    try:\n",
    "        project_id = param\n",
    "        datasets = list(BigQueryClientSingleton.get_instance().client.list_datasets(project=project_id))\n",
    "        if len(datasets) > 0:\n",
    "            dataset_info_list = [\n",
    "                {\n",
    "                    \"dataset_id\": dataset.dataset_id,\n",
    "                    \"completepath\": f'{project_id}.{dataset.dataset_id}'\n",
    "                }\n",
    "                for dataset in datasets\n",
    "            ]\n",
    "\n",
    "            return jsonify({\n",
    "                \"count\": len(datasets),\n",
    "                \"project_id\": project_id,\n",
    "                \"results\": dataset_info_list\n",
    "            })\n",
    "        return jsonify({\"error\": f\"No datasets found in the project: {project_id}\"}), 404\n",
    "    except Exception as e:\n",
    "        return jsonify({\"error\": str(e)}), 500\n",
    "    finally:\n",
    "        close_instance()\n",
    "\n",
    "@app.route(\"/list_tables/<param>\")\n",
    "def list_tables(param):\n",
    "    try:\n",
    "        project_id, dataset_id = param.split(\".\")        \n",
    "        # Construct the dataset reference\n",
    "        dataset_ref = BigQueryClientSingleton.get_instance().client.dataset(dataset_id, project=project_id)\n",
    "        # Get a list of tables in the dataset\n",
    "        tables = list(client.list_tables(dataset_ref))\n",
    "        if len(tables) > 0:\n",
    "\n",
    "            return jsonify({\n",
    "                \"count\": len(tables),\n",
    "                \"project_id\": project_id,\n",
    "                \"dataset_id\": dataset_id,\n",
    "                \"results\": [{\"table\": table.table_id,\"full_table\": f'{project_id}.{dataset_id}.{table.table_id}','table_schema':[{\"name\": field.name, \"type\": field.field_type} for field in BigQueryClientSingleton.get_instance().client.get_table(table.reference).schema]} for table in tables]\n",
    "            })\n",
    "        return jsonify({\"error\": f\"No DataSets found in the project: {project_id} under dataset: {dataset_id}\"}), 404\n",
    "    except Exception as e:\n",
    "        return jsonify({\"error\": str(e)}), 500\n",
    "    finally:\n",
    "        close_instance()\n",
    "\n",
    "@app.route(\"/<sql>\")\n",
    "def run_query(sql):\n",
    "    # sql = unquote(sql)\n",
    "    try:\n",
    "        client_instance = BigQueryClientSingleton.get_instance().client\n",
    "        query_job = client_instance.query(sql)\n",
    "        # Handle errors\n",
    "        if query_job.errors:\n",
    "            return jsonify({\"error\": query_job.errors}), 404\n",
    "        query_result = query_job.result().to_dataframe().to_dict()\n",
    "        result_list = [dict(row) for row in query_result]\n",
    "        return jsonify({\n",
    "            \"count\" : len(result_list),\n",
    "            \"input_query\" : query_job.query,\n",
    "            \"results\" : result_list\n",
    "        })\n",
    "    except Exception as e:\n",
    "        return jsonify({\"error\": str(e)}), 500        \n",
    "    finally:\n",
    "        close_instance()\n",
    "\n",
    "@app.route(\"/close\")\n",
    "def close_instance():\n",
    "    BigQueryClientSingleton.close_instance()\n",
    "    return f\"connection closed\"\n",
    "\n",
    "@app.route(\"/error\")\n",
    "def error():\n",
    "    BigQueryClientSingleton.close_instance()\n",
    "    error_message = request.args.get('err', 'An error occurred.')\n",
    "    if error_message == 'An error occurred.':\n",
    "        return f\"Unfortunately {error_message}\"\n",
    "    return f\"Error Occured, Message: {error_message}\"\n",
    "app.run()"
   ]
  },
  {
   "cell_type": "code",
   "execution_count": null,
   "metadata": {},
   "outputs": [],
   "source": [
    "# # ----------------------------------- Main Code --------------------------------------------\n",
    "# from flask import Flask, request, render_template, flash, redirect, url_for, request,jsonify\n",
    "# from urllib.parse import unquote, quote\n",
    "# from google.cloud import bigquery\n",
    "# import os, pandas as pd\n",
    "# os.environ['GOOGLE_APPLICATION_CREDENTIALS'] = 'key.json'\n",
    "\n",
    "# app = Flask(__name__)\n",
    "\n",
    "# class BigQueryClientSingleton:\n",
    "#     _instance = None\n",
    "\n",
    "#     def __new__(cls):\n",
    "#         if cls._instance is None:\n",
    "#             cls._instance = super(BigQueryClientSingleton, cls).__new__(cls)\n",
    "#             # Create the BigQuery client here\n",
    "#             cls._instance.client = bigquery.Client()\n",
    "#         return cls._instance\n",
    "\n",
    "#     @classmethod\n",
    "#     def get_instance(cls):\n",
    "#         if cls._instance is None:\n",
    "#             cls._instance = cls()\n",
    "#         return cls._instance\n",
    "\n",
    "#     @classmethod\n",
    "#     def close_instance(cls):\n",
    "#         if cls._instance is not None and hasattr(cls._instance, 'client'):\n",
    "#             cls._instance.client.close()\n",
    "#             cls._instance = None\n",
    "\n",
    "# @app.route(\"/\")\n",
    "# def home():\n",
    "#     BigQueryClientSingleton.get_instance()\n",
    "#     return f\"Hello, welcome to bigquery api app on flask! \"\n",
    "\n",
    "# @app.route(\"/list_datasets/<param>\")\n",
    "# def list_datasets(param):\n",
    "#     try:\n",
    "#         datasets = list(BigQueryClientSingleton.get_instance().client.list_datasets(project=param))\n",
    "#         if len(datasets) > 0:\n",
    "#             dataset_info = {\n",
    "#                 \"count\":len(datasets),\n",
    "#                 \"project_id\":param,\n",
    "#                 \"dataset_id\": [],\n",
    "#                 \"completepath\": []\n",
    "#             }\n",
    "\n",
    "#             # Fill the DataFrame with dataset information\n",
    "#             for dataset in datasets:\n",
    "#                 dataset_info[\"dataset_id\"].append(dataset.dataset_id)\n",
    "#                 dataset_info[\"completepath\"].append(f'{project_id}.{dataset.dataset_id}')\n",
    "\n",
    "#             # Create a DataFrame from the dictionary and return \n",
    "#             return pd.DataFrame(dataset_info).to_json(orient='records')\n",
    "\n",
    "#         return redirect(url_for('error')+ f'?err={quote(str(f\"No DataSets found! in the project: {param}\"))}')\n",
    "\n",
    "#     except Exception as e:\n",
    "#         # Redirect to Error Page\n",
    "#         return redirect(url_for('error')+ f'?err={quote(str(e))}')\n",
    "    \n",
    "#     finally:\n",
    "#         close_instance()\n",
    "\n",
    "\n",
    "# @app.route(\"/list_tables/<param>\")\n",
    "# def list_tables(param):\n",
    "#     try:\n",
    "\n",
    "#         project_id, dataset_id = param.split(\".\")\n",
    "        \n",
    "#         # Construct the dataset reference\n",
    "#         dataset_ref = BigQueryClientSingleton.get_instance().client.dataset(dataset_id, project=project_id)\n",
    "\n",
    "#         # Get a list of tables in the dataset\n",
    "#         tables = list(client.list_tables(dataset_ref))\n",
    "    \n",
    "#         if len(tables) > 0:\n",
    " \n",
    "#             table_info_list = [{\"table\": f'{project_id}.{dataset_id}.{table.table_id}'} for table in tables]\n",
    "\n",
    "#             # Create a DataFrame from the list of dictionaries\n",
    "#             df_result = pd.DataFrame(table_info_list)\n",
    "            \n",
    "#             # Create a result dictionary for the final DataFrame\n",
    "#             result_dict = {\n",
    "#                 \"count\": len(tables),\n",
    "#                 \"project_id\": project_id,\n",
    "#                 \"dataset_id\": dataset_id,\n",
    "#                 \"result\": df_result.to_dict(orient='records')\n",
    "#             }\n",
    "\n",
    "#             # Convert the result dictionary to JSON\n",
    "#             json_response = pd.Series(result_dict).to_json(default_handler=str)\n",
    "            \n",
    "\n",
    "#             return json_response\n",
    "\n",
    "#         return redirect(url_for('error')+ f'?err={quote(str(f\"No DataSets found! in the project: {project_id} under dataset: {dataset_id}\"))}')\n",
    "\n",
    "#     except Exception as e:\n",
    "#         # Redirect to Error Page\n",
    "#         return redirect(url_for('error')+ f'?err={quote(str(e))}')\n",
    "    \n",
    "#     finally:\n",
    "#         close_instance()\n",
    "\n",
    "# @app.route(\"/<sql>\")\n",
    "# def run_query(sql):\n",
    "#     # sql = unquote(sql)\n",
    "#     try:\n",
    "#         client_instance = BigQueryClientSingleton.get_instance().client\n",
    "#         query_job = client_instance.query(sql)\n",
    "#         # Handle errors\n",
    "#         if query_job.errors:\n",
    "#             # Redirect to Error Page\n",
    "#             return redirect(url_for('error')+ f'?err={quote(str(query_job.errors))}')\n",
    "\n",
    "#         rows = query_job.result().to_dataframe()\n",
    "\n",
    "#         return rows.to_json(orient='records')\n",
    "\n",
    "#     except Exception as e:\n",
    "#         # Redirect to Error Page\n",
    "#         return redirect(url_for('error')+ f'?err={quote(str(e))}')\n",
    "    \n",
    "#     finally:\n",
    "#         close_instance()\n",
    "\n",
    "# @app.route(\"/close\")\n",
    "# def close_instance():\n",
    "#     BigQueryClientSingleton.close_instance()\n",
    "#     return f\"connection closed\"\n",
    "\n",
    "# @app.route(\"/error\")\n",
    "# def error():\n",
    "#     BigQueryClientSingleton.close_instance()\n",
    "#     error_message = request.args.get('err', 'An error occurred.')\n",
    "#     if error_message == 'An error occurred.':\n",
    "#         return f\"Unfortunately {error_message}\"\n",
    "#     return f\"Error Occured, Message: {error_message}\"\n",
    "# app.run()\n",
    "# # ------------------------------------------------------------------------------------------"
   ]
  },
  {
   "cell_type": "code",
   "execution_count": 4,
   "metadata": {},
   "outputs": [],
   "source": [
    "from ngrok import ngrok\n",
    "token  = '2adOpP183TcTfwi1rhZI4FMbvD7_47TYVnAj2bWQ62ekN7vSA'\n",
    "ngrok.set_auth_token(token)\n",
    "listener = ngrok.forward(\"localhost:5000\")"
   ]
  },
  {
   "cell_type": "code",
   "execution_count": 5,
   "metadata": {},
   "outputs": [
    {
     "data": {
      "text/plain": [
       "<function Task.get_name()>"
      ]
     },
     "execution_count": 5,
     "metadata": {},
     "output_type": "execute_result"
    }
   ],
   "source": [
    "listener.get_name"
   ]
  },
  {
   "cell_type": "code",
   "execution_count": 23,
   "metadata": {},
   "outputs": [
    {
     "ename": "AttributeError",
     "evalue": "'_asyncio.Task' object has no attribute 'url'",
     "output_type": "error",
     "traceback": [
      "\u001b[1;31m---------------------------------------------------------------------------\u001b[0m",
      "\u001b[1;31mAttributeError\u001b[0m                            Traceback (most recent call last)",
      "\u001b[1;32mc:\\Users\\karth\\Desktop\\New folderbigQuery\\BigQuery.ipynb Cell 9\u001b[0m line \u001b[0;36m1\n\u001b[1;32m----> <a href='vscode-notebook-cell:/c%3A/Users/karth/Desktop/New%20folderbigQuery/BigQuery.ipynb#X32sZmlsZQ%3D%3D?line=0'>1</a>\u001b[0m listener\u001b[39m.\u001b[39;49murl\n",
      "\u001b[1;31mAttributeError\u001b[0m: '_asyncio.Task' object has no attribute 'url'"
     ]
    }
   ],
   "source": [
    "# listener.url"
   ]
  },
  {
   "cell_type": "code",
   "execution_count": null,
   "metadata": {},
   "outputs": [
    {
     "data": {
      "text/plain": [
       "<Task pending name='Task-33' coro=<wrap() running at ngrok_wrapper:6>>"
      ]
     },
     "execution_count": 227,
     "metadata": {},
     "output_type": "execute_result"
    }
   ],
   "source": [
    "ngrok.disconnect()"
   ]
  },
  {
   "cell_type": "code",
   "execution_count": 224,
   "metadata": {},
   "outputs": [
    {
     "data": {
      "text/plain": [
       "'SELECT%20name%20FROM%20bigquery-public-data.usa_names.usa_1910_2013%20WHERE%20state%20%3D%20%27TX%27%20LIMIT%20100'"
      ]
     },
     "execution_count": 224,
     "metadata": {},
     "output_type": "execute_result"
    }
   ],
   "source": [
    "from urllib.parse import quote\n",
    "\n",
    "# ...\n",
    "\n",
    "# Example: Constructing a URL with an encoded SQL query\n",
    "sql_query = \"SELECT name FROM bigquery-public-data.usa_names.usa_1910_2013 WHERE state = 'TX' LIMIT 100\"\n",
    "encoded_query = quote(sql_query)\n",
    "encoded_query"
   ]
  },
  {
   "cell_type": "code",
   "execution_count": 225,
   "metadata": {},
   "outputs": [],
   "source": [
    "# from flask import Flask, request, render_template, flash, redirect, url_for\n",
    "\n",
    "# from google.cloud import bigquery\n",
    "\n",
    "# app = Flask(__name__)\n",
    "# client_instance = None\n",
    "\n",
    "# class BigQueryClientSingleton:\n",
    "#     _instance = None\n",
    "\n",
    "#     def __new__(cls):\n",
    "#         if cls._instance is None:\n",
    "#             cls._instance = super(BigQueryClientSingleton, cls).__new__(cls)\n",
    "#             # Create the BigQuery client here\n",
    "#             cls._instance.client = bigquery.Client()\n",
    "#         return cls._instance\n",
    "\n",
    "#     @classmethod\n",
    "#     def get_instance(cls):\n",
    "#         if cls._instance is None:\n",
    "#             cls._instance = cls()\n",
    "#         return cls._instance\n",
    "\n",
    "#     @classmethod\n",
    "#     def close_instance(cls):\n",
    "#         if cls._instance is not None and hasattr(cls._instance, 'client'):\n",
    "#             cls._instance.client.close()\n",
    "#             cls._instance = None\n",
    "\n",
    "# @app.route(\"/\")\n",
    "# def home():\n",
    "#     global client_instance\n",
    "#     client_instance = BigQueryClientSingleton.get_instance()\n",
    "#     return f\"Hello, Flask! {client_instance}\"\n",
    "\n",
    "# @app.route(\"/close\")\n",
    "# def close_instance():\n",
    "#     BigQueryClientSingleton.close_instance()\n",
    "#     return \"Connection closed\"\n",
    "\n",
    "# @app.route(\"/error\")\n",
    "# def error_handler():\n",
    "#     BigQueryClientSingleton.close_instance()\n",
    "#     return \"Connection closed\"\n",
    "\n",
    "# @app.route(\"/<sql>\")\n",
    "# def run_query(sql):\n",
    "#     global client_instance\n",
    "#     user_query = sql\n",
    "#     query_job = client_instance.client.query(user_query)\n",
    "#     print(f\"error message: {query_job.errors}\")\n",
    "#     # Handle errors if needed\n",
    "#     rows = query_job.result().to_dataframe()\n",
    "#     return rows.to_dict()\n",
    "\n",
    "# if __name__ == \"__main__\":\n",
    "#     app.run()"
   ]
  },
  {
   "cell_type": "code",
   "execution_count": null,
   "metadata": {},
   "outputs": [],
   "source": [
    "\"SELECT name FROM bigquery-public-data.usa_names.usa_1910_2013 WHERE state = 'TX' LIMIT 100\""
   ]
  },
  {
   "cell_type": "code",
   "execution_count": 67,
   "metadata": {},
   "outputs": [],
   "source": [
    "from google.cloud import bigquery\n",
    "\n",
    "# Set up the BigQuery client\n",
    "client = bigquery.Client()\n",
    "\n",
    "# Replace 'your_project' with your actual project name\n",
    "project_id = 'bigquery-public-data'\n",
    "# project_id = 'test-bigquery-410304'\n",
    "# project_id = ''\n",
    "# Get a list of datasets in the project\n",
    "datasets = list(client.list_datasets(project=project_id))\n",
    "\n",
    "# Print the dataset names\n",
    "# for dataset in datasets:\n",
    "#     print(dataset.dataset_id)\n"
   ]
  },
  {
   "cell_type": "code",
   "execution_count": 70,
   "metadata": {},
   "outputs": [
    {
     "name": "stdout",
     "output_type": "stream",
     "text": [
      "bigquery-public-data.austin_bikeshare\n"
     ]
    }
   ],
   "source": [
    "from google.cloud import bigquery\n",
    "\n",
    "# Set up the BigQuery client (the client will try to infer the project ID)\n",
    "client = bigquery.Client()\n",
    "\n",
    "# Replace 'your_dataset' with your actual dataset name\n",
    "dataset_id = 'bigquery-public-data.austin_bikeshare'\n",
    "\n",
    "# Construct the dataset reference\n",
    "dataset_ref = client.dataset(dataset_id,project_id)\n",
    "\n",
    "print(dataset_ref)\n",
    "# Get a list of tables in the dataset\n",
    "tables = list(client.list_tables(dataset_ref))\n",
    "\n",
    "# # Print the table names\n",
    "# for table in tables:\n",
    "#     print(table.table_id)\n"
   ]
  }
 ],
 "metadata": {
  "kernelspec": {
   "display_name": "Python 3",
   "language": "python",
   "name": "python3"
  },
  "language_info": {
   "codemirror_mode": {
    "name": "ipython",
    "version": 3
   },
   "file_extension": ".py",
   "mimetype": "text/x-python",
   "name": "python",
   "nbconvert_exporter": "python",
   "pygments_lexer": "ipython3",
   "version": "3.10.11"
  },
  "orig_nbformat": 4
 },
 "nbformat": 4,
 "nbformat_minor": 2
}
